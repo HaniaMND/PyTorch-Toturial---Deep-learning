{
  "nbformat": 4,
  "nbformat_minor": 0,
  "metadata": {
    "colab": {
      "provenance": []
    },
    "kernelspec": {
      "name": "python3",
      "display_name": "Python 3"
    },
    "language_info": {
      "name": "python"
    }
  },
  "cells": [
    {
      "cell_type": "markdown",
      "source": [
        "# Optimizing Model Parameters"
      ],
      "metadata": {
        "id": "RmysOIvhgth6"
      }
    },
    {
      "cell_type": "markdown",
      "source": [
        "0. Prerequisite Code"
      ],
      "metadata": {
        "id": "de38AWKqhEyQ"
      }
    },
    {
      "cell_type": "code",
      "execution_count": null,
      "metadata": {
        "id": "Flgtg8fFgnl5"
      },
      "outputs": [],
      "source": [
        "import torch\n",
        "from torch import nn\n",
        "from torch.utils.data import DataLoader\n",
        "from torchvision import datasets\n",
        "from torchvision.transforms import ToTensor\n",
        "\n",
        "training_data = datasets.FashionMNIST(\n",
        "    root=\"data\",\n",
        "    train=True,\n",
        "    download=True,\n",
        "    transform=ToTensor()\n",
        ")\n",
        "\n",
        "test_data = datasets.FashionMNIST(\n",
        "    root=\"data\",\n",
        "    train=False,\n",
        "    download=True,\n",
        "    transform=ToTensor()\n",
        ")\n",
        "\n",
        "train_dataloader = DataLoader(training_data, batch_size=64)\n",
        "test_dataloader = DataLoader(test_data, batch_size=64)\n",
        "\n",
        "class NeuralNetwork(nn.Module):\n",
        "    def __init__(self):\n",
        "        super().__init__()\n",
        "        self.flatten = nn.Flatten()\n",
        "        self.linear_relu_stack = nn.Sequential(\n",
        "            nn.Linear(28*28, 512),\n",
        "            nn.ReLU(),\n",
        "            nn.Linear(512, 512),\n",
        "            nn.ReLU(),\n",
        "            nn.Linear(512, 10),\n",
        "        )\n",
        "\n",
        "    def forward(self, x):\n",
        "        x = self.flatten(x)\n",
        "        logits = self.linear_relu_stack(x)\n",
        "        return logits\n",
        "\n",
        "model = NeuralNetwork()"
      ]
    },
    {
      "cell_type": "markdown",
      "source": [
        "1. Hyperparameters"
      ],
      "metadata": {
        "id": "2xxhUK02hSB7"
      }
    },
    {
      "cell_type": "code",
      "source": [
        "learning_rate = 1e-3\n",
        "batch_size = 64\n",
        "epochs = 5"
      ],
      "metadata": {
        "id": "NRKywqV5hIOV"
      },
      "execution_count": null,
      "outputs": []
    },
    {
      "cell_type": "markdown",
      "source": [
        "2. Optimization Loop :\n",
        "\n",
        "Loss Function"
      ],
      "metadata": {
        "id": "C5qRXfPuhstB"
      }
    },
    {
      "cell_type": "code",
      "source": [
        "loss_fn = nn.CrossEntropyLoss()"
      ],
      "metadata": {
        "id": "sl4kvGE6hohx"
      },
      "execution_count": null,
      "outputs": []
    },
    {
      "cell_type": "markdown",
      "source": [
        "Optimizer"
      ],
      "metadata": {
        "id": "n9ToGiQ2iV40"
      }
    },
    {
      "cell_type": "code",
      "source": [
        "optimizer = torch.optim.SGD(model.parameters(), lr=learning_rate)"
      ],
      "metadata": {
        "id": "1DYrLpahiO6X"
      },
      "execution_count": null,
      "outputs": []
    },
    {
      "cell_type": "markdown",
      "source": [
        "3. Full Implementation :\n",
        "\n",
        "Train loop"
      ],
      "metadata": {
        "id": "vCHrcfJzixws"
      }
    },
    {
      "cell_type": "code",
      "source": [
        "def train_loop(dataloader, model, loss_fn, optimizer):\n",
        "    size = len(dataloader.dataset)\n",
        "\n",
        "    model.train()\n",
        "    for batch, (X, y) in enumerate(dataloader):\n",
        "\n",
        "        pred = model(X)\n",
        "        loss = loss_fn(pred, y)\n",
        "\n",
        "\n",
        "        loss.backward()\n",
        "        optimizer.step()\n",
        "        optimizer.zero_grad()\n",
        "\n",
        "        if batch % 100 == 0:\n",
        "            loss, current = loss.item(), batch * batch_size + len(X)\n",
        "            print(f\"loss: {loss:>7f}  [{current:>5d}/{size:>5d}]\")"
      ],
      "metadata": {
        "id": "RAxMLKXvikRk"
      },
      "execution_count": null,
      "outputs": []
    },
    {
      "cell_type": "markdown",
      "source": [
        "Test loop"
      ],
      "metadata": {
        "id": "X1TdVHTR6KNl"
      }
    },
    {
      "cell_type": "code",
      "source": [
        "def test_loop(dataloader, model, loss_fn):\n",
        "\n",
        "    model.eval()\n",
        "    size = len(dataloader.dataset)\n",
        "    num_batches = len(dataloader)\n",
        "    test_loss, correct = 0, 0\n",
        "\n",
        "\n",
        "    with torch.no_grad():\n",
        "        for X, y in dataloader:\n",
        "            pred = model(X)\n",
        "            test_loss += loss_fn(pred, y).item()\n",
        "            correct += (pred.argmax(1) == y).type(torch.float).sum().item()\n",
        "\n",
        "    test_loss /= num_batches\n",
        "    correct /= size\n",
        "    print(f\"Test Error: \\n Accuracy: {(100*correct):>0.1f}%, Avg loss: {test_loss:>8f} \\n\")"
      ],
      "metadata": {
        "id": "IdHz5kdHjMZ4"
      },
      "execution_count": null,
      "outputs": []
    },
    {
      "cell_type": "code",
      "source": [
        "loss_fn = nn.CrossEntropyLoss()\n",
        "optimizer = torch.optim.SGD(model.parameters(), lr=learning_rate)\n",
        "\n",
        "epochs = 10\n",
        "\n",
        "for t in range(epochs):\n",
        "    print(f\"Epoch {t+1}\\n-------------------------------\")\n",
        "    train_loop(train_dataloader, model, loss_fn, optimizer)\n",
        "    test_loop(test_dataloader, model, loss_fn)\n",
        "print(\"Done!\")"
      ],
      "metadata": {
        "colab": {
          "base_uri": "https://localhost:8080/"
        },
        "id": "F33Q7rlN6YhM",
        "outputId": "6ca1233d-d166-457a-f202-806e5cb0528f"
      },
      "execution_count": null,
      "outputs": [
        {
          "output_type": "stream",
          "name": "stdout",
          "text": [
            "Epoch 1\n",
            "-------------------------------\n",
            "loss: 2.310738  [   64/60000]\n",
            "loss: 2.291548  [ 6464/60000]\n",
            "loss: 2.272606  [12864/60000]\n",
            "loss: 2.257719  [19264/60000]\n",
            "loss: 2.250661  [25664/60000]\n",
            "loss: 2.232831  [32064/60000]\n",
            "loss: 2.224620  [38464/60000]\n",
            "loss: 2.202049  [44864/60000]\n",
            "loss: 2.206221  [51264/60000]\n",
            "loss: 2.168969  [57664/60000]\n",
            "Test Error: \n",
            " Accuracy: 44.9%, Avg loss: 2.156715 \n",
            "\n",
            "Epoch 2\n",
            "-------------------------------\n",
            "loss: 2.177720  [   64/60000]\n",
            "loss: 2.156492  [ 6464/60000]\n",
            "loss: 2.100369  [12864/60000]\n",
            "loss: 2.105325  [19264/60000]\n",
            "loss: 2.068060  [25664/60000]\n",
            "loss: 2.020037  [32064/60000]\n",
            "loss: 2.029950  [38464/60000]\n",
            "loss: 1.957518  [44864/60000]\n",
            "loss: 1.973156  [51264/60000]\n",
            "loss: 1.896219  [57664/60000]\n",
            "Test Error: \n",
            " Accuracy: 58.5%, Avg loss: 1.884496 \n",
            "\n",
            "Epoch 3\n",
            "-------------------------------\n",
            "loss: 1.927039  [   64/60000]\n",
            "loss: 1.888283  [ 6464/60000]\n",
            "loss: 1.767381  [12864/60000]\n",
            "loss: 1.799533  [19264/60000]\n",
            "loss: 1.712507  [25664/60000]\n",
            "loss: 1.663066  [32064/60000]\n",
            "loss: 1.677028  [38464/60000]\n",
            "loss: 1.578235  [44864/60000]\n",
            "loss: 1.619451  [51264/60000]\n",
            "loss: 1.507262  [57664/60000]\n",
            "Test Error: \n",
            " Accuracy: 61.3%, Avg loss: 1.518755 \n",
            "\n",
            "Epoch 4\n",
            "-------------------------------\n",
            "loss: 1.590657  [   64/60000]\n",
            "loss: 1.553552  [ 6464/60000]\n",
            "loss: 1.397454  [12864/60000]\n",
            "loss: 1.466869  [19264/60000]\n",
            "loss: 1.368077  [25664/60000]\n",
            "loss: 1.356932  [32064/60000]\n",
            "loss: 1.370068  [38464/60000]\n",
            "loss: 1.293308  [44864/60000]\n",
            "loss: 1.343095  [51264/60000]\n",
            "loss: 1.238326  [57664/60000]\n",
            "Test Error: \n",
            " Accuracy: 63.5%, Avg loss: 1.257638 \n",
            "\n",
            "Epoch 5\n",
            "-------------------------------\n",
            "loss: 1.336053  [   64/60000]\n",
            "loss: 1.317805  [ 6464/60000]\n",
            "loss: 1.145638  [12864/60000]\n",
            "loss: 1.249545  [19264/60000]\n",
            "loss: 1.136351  [25664/60000]\n",
            "loss: 1.158232  [32064/60000]\n",
            "loss: 1.179034  [38464/60000]\n",
            "loss: 1.116163  [44864/60000]\n",
            "loss: 1.169050  [51264/60000]\n",
            "loss: 1.079988  [57664/60000]\n",
            "Test Error: \n",
            " Accuracy: 64.7%, Avg loss: 1.093175 \n",
            "\n",
            "Epoch 6\n",
            "-------------------------------\n",
            "loss: 1.165218  [   64/60000]\n",
            "loss: 1.166577  [ 6464/60000]\n",
            "loss: 0.978796  [12864/60000]\n",
            "loss: 1.111127  [19264/60000]\n",
            "loss: 0.991020  [25664/60000]\n",
            "loss: 1.023039  [32064/60000]\n",
            "loss: 1.059247  [38464/60000]\n",
            "loss: 1.002066  [44864/60000]\n",
            "loss: 1.055622  [51264/60000]\n",
            "loss: 0.979872  [57664/60000]\n",
            "Test Error: \n",
            " Accuracy: 65.5%, Avg loss: 0.986164 \n",
            "\n",
            "Epoch 7\n",
            "-------------------------------\n",
            "loss: 1.046442  [   64/60000]\n",
            "loss: 1.067711  [ 6464/60000]\n",
            "loss: 0.864072  [12864/60000]\n",
            "loss: 1.018696  [19264/60000]\n",
            "loss: 0.899716  [25664/60000]\n",
            "loss: 0.927124  [32064/60000]\n",
            "loss: 0.980202  [38464/60000]\n",
            "loss: 0.927543  [44864/60000]\n",
            "loss: 0.977764  [51264/60000]\n",
            "loss: 0.912830  [57664/60000]\n",
            "Test Error: \n",
            " Accuracy: 66.8%, Avg loss: 0.913171 \n",
            "\n",
            "Epoch 8\n",
            "-------------------------------\n",
            "loss: 0.959514  [   64/60000]\n",
            "loss: 0.998830  [ 6464/60000]\n",
            "loss: 0.781970  [12864/60000]\n",
            "loss: 0.954148  [19264/60000]\n",
            "loss: 0.839528  [25664/60000]\n",
            "loss: 0.856678  [32064/60000]\n",
            "loss: 0.924452  [38464/60000]\n",
            "loss: 0.877504  [44864/60000]\n",
            "loss: 0.921952  [51264/60000]\n",
            "loss: 0.865079  [57664/60000]\n",
            "Test Error: \n",
            " Accuracy: 67.7%, Avg loss: 0.860799 \n",
            "\n",
            "Epoch 9\n",
            "-------------------------------\n",
            "loss: 0.893353  [   64/60000]\n",
            "loss: 0.947530  [ 6464/60000]\n",
            "loss: 0.720751  [12864/60000]\n",
            "loss: 0.906838  [19264/60000]\n",
            "loss: 0.797085  [25664/60000]\n",
            "loss: 0.803620  [32064/60000]\n",
            "loss: 0.882377  [38464/60000]\n",
            "loss: 0.842841  [44864/60000]\n",
            "loss: 0.880450  [51264/60000]\n",
            "loss: 0.828870  [57664/60000]\n",
            "Test Error: \n",
            " Accuracy: 69.0%, Avg loss: 0.821373 \n",
            "\n",
            "Epoch 10\n",
            "-------------------------------\n",
            "loss: 0.840996  [   64/60000]\n",
            "loss: 0.906634  [ 6464/60000]\n",
            "loss: 0.673282  [12864/60000]\n",
            "loss: 0.870992  [19264/60000]\n",
            "loss: 0.765283  [25664/60000]\n",
            "loss: 0.762929  [32064/60000]\n",
            "loss: 0.848803  [38464/60000]\n",
            "loss: 0.817564  [44864/60000]\n",
            "loss: 0.848414  [51264/60000]\n",
            "loss: 0.799871  [57664/60000]\n",
            "Test Error: \n",
            " Accuracy: 70.3%, Avg loss: 0.790288 \n",
            "\n",
            "Done!\n"
          ]
        }
      ]
    },
    {
      "cell_type": "markdown",
      "source": [
        "# Save and Load the Model"
      ],
      "metadata": {
        "id": "oJNpsw8O8aAt"
      }
    },
    {
      "cell_type": "markdown",
      "source": [
        "PyTorch models store the learned parameters in an internal state dictionary, called `state_dict`, via the `torch.save` method"
      ],
      "metadata": {
        "id": "f5Bx0sD08ykH"
      }
    },
    {
      "cell_type": "code",
      "source": [
        "import torchvision.models as models"
      ],
      "metadata": {
        "id": "Fqajc4Py889k"
      },
      "execution_count": 11,
      "outputs": []
    },
    {
      "cell_type": "code",
      "source": [
        "model = models.vgg16(weights='IMAGENET1K_V1')\n",
        "torch.save(model.state_dict(), 'model_weights.pth')"
      ],
      "metadata": {
        "id": "loEgOSsB8anc"
      },
      "execution_count": 12,
      "outputs": []
    },
    {
      "cell_type": "markdown",
      "source": [
        "To load model weights, we create an instance of the same model, then load the parameters using `load_state_dict()` method."
      ],
      "metadata": {
        "id": "XYAMrdGk9JNx"
      }
    },
    {
      "cell_type": "code",
      "source": [
        "model = models.vgg16()\n",
        "model.load_state_dict(torch.load('model_weights.pth'))\n",
        "model.eval()"
      ],
      "metadata": {
        "colab": {
          "base_uri": "https://localhost:8080/"
        },
        "id": "iAgroWc885Qa",
        "outputId": "37ca1f14-7c81-452d-a236-6f6d4a313b14"
      },
      "execution_count": 13,
      "outputs": [
        {
          "output_type": "execute_result",
          "data": {
            "text/plain": [
              "VGG(\n",
              "  (features): Sequential(\n",
              "    (0): Conv2d(3, 64, kernel_size=(3, 3), stride=(1, 1), padding=(1, 1))\n",
              "    (1): ReLU(inplace=True)\n",
              "    (2): Conv2d(64, 64, kernel_size=(3, 3), stride=(1, 1), padding=(1, 1))\n",
              "    (3): ReLU(inplace=True)\n",
              "    (4): MaxPool2d(kernel_size=2, stride=2, padding=0, dilation=1, ceil_mode=False)\n",
              "    (5): Conv2d(64, 128, kernel_size=(3, 3), stride=(1, 1), padding=(1, 1))\n",
              "    (6): ReLU(inplace=True)\n",
              "    (7): Conv2d(128, 128, kernel_size=(3, 3), stride=(1, 1), padding=(1, 1))\n",
              "    (8): ReLU(inplace=True)\n",
              "    (9): MaxPool2d(kernel_size=2, stride=2, padding=0, dilation=1, ceil_mode=False)\n",
              "    (10): Conv2d(128, 256, kernel_size=(3, 3), stride=(1, 1), padding=(1, 1))\n",
              "    (11): ReLU(inplace=True)\n",
              "    (12): Conv2d(256, 256, kernel_size=(3, 3), stride=(1, 1), padding=(1, 1))\n",
              "    (13): ReLU(inplace=True)\n",
              "    (14): Conv2d(256, 256, kernel_size=(3, 3), stride=(1, 1), padding=(1, 1))\n",
              "    (15): ReLU(inplace=True)\n",
              "    (16): MaxPool2d(kernel_size=2, stride=2, padding=0, dilation=1, ceil_mode=False)\n",
              "    (17): Conv2d(256, 512, kernel_size=(3, 3), stride=(1, 1), padding=(1, 1))\n",
              "    (18): ReLU(inplace=True)\n",
              "    (19): Conv2d(512, 512, kernel_size=(3, 3), stride=(1, 1), padding=(1, 1))\n",
              "    (20): ReLU(inplace=True)\n",
              "    (21): Conv2d(512, 512, kernel_size=(3, 3), stride=(1, 1), padding=(1, 1))\n",
              "    (22): ReLU(inplace=True)\n",
              "    (23): MaxPool2d(kernel_size=2, stride=2, padding=0, dilation=1, ceil_mode=False)\n",
              "    (24): Conv2d(512, 512, kernel_size=(3, 3), stride=(1, 1), padding=(1, 1))\n",
              "    (25): ReLU(inplace=True)\n",
              "    (26): Conv2d(512, 512, kernel_size=(3, 3), stride=(1, 1), padding=(1, 1))\n",
              "    (27): ReLU(inplace=True)\n",
              "    (28): Conv2d(512, 512, kernel_size=(3, 3), stride=(1, 1), padding=(1, 1))\n",
              "    (29): ReLU(inplace=True)\n",
              "    (30): MaxPool2d(kernel_size=2, stride=2, padding=0, dilation=1, ceil_mode=False)\n",
              "  )\n",
              "  (avgpool): AdaptiveAvgPool2d(output_size=(7, 7))\n",
              "  (classifier): Sequential(\n",
              "    (0): Linear(in_features=25088, out_features=4096, bias=True)\n",
              "    (1): ReLU(inplace=True)\n",
              "    (2): Dropout(p=0.5, inplace=False)\n",
              "    (3): Linear(in_features=4096, out_features=4096, bias=True)\n",
              "    (4): ReLU(inplace=True)\n",
              "    (5): Dropout(p=0.5, inplace=False)\n",
              "    (6): Linear(in_features=4096, out_features=1000, bias=True)\n",
              "  )\n",
              ")"
            ]
          },
          "metadata": {},
          "execution_count": 13
        }
      ]
    }
  ]
}