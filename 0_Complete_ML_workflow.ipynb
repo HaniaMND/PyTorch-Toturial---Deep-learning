{
  "nbformat": 4,
  "nbformat_minor": 0,
  "metadata": {
    "colab": {
      "provenance": []
    },
    "kernelspec": {
      "name": "python3",
      "display_name": "Python 3"
    },
    "language_info": {
      "name": "python"
    }
  },
  "cells": [
    {
      "cell_type": "markdown",
      "source": [
        "# Quickstart"
      ],
      "metadata": {
        "id": "Z6eTTipJXizL"
      }
    },
    {
      "cell_type": "markdown",
      "source": [
        "This is a complete ML workflow implemented in PyTorch, introduced by the official pytorch documentation.\n",
        "\n",
        "We’ll use the FashionMNIST dataset to train a neural network that predicts if an input image belongs to its corresponding classe."
      ],
      "metadata": {
        "id": "KdNT8ODyQQtz"
      }
    },
    {
      "cell_type": "markdown",
      "source": [
        "1. Working with data"
      ],
      "metadata": {
        "id": "PbTYSL0zRgn6"
      }
    },
    {
      "cell_type": "code",
      "execution_count": 5,
      "metadata": {
        "id": "ZTP0jhEEfc9C"
      },
      "outputs": [],
      "source": [
        "import torch\n",
        "from torch import nn\n",
        "from torch.utils.data import DataLoader\n",
        "from torchvision import datasets\n",
        "from torchvision.transforms import ToTensor"
      ]
    },
    {
      "cell_type": "code",
      "source": [
        "training_data = datasets.FashionMNIST(\n",
        "    root=\"data\",\n",
        "    train=True,\n",
        "    download=True,\n",
        "    transform=ToTensor(),\n",
        ")\n",
        "\n",
        "test_data = datasets.FashionMNIST(\n",
        "    root=\"data\",\n",
        "    train=False,\n",
        "    download=True,\n",
        "    transform=ToTensor(),\n",
        ")"
      ],
      "metadata": {
        "id": "stOIvegZX3HG"
      },
      "execution_count": 6,
      "outputs": []
    },
    {
      "cell_type": "markdown",
      "source": [
        "Creating data loaders"
      ],
      "metadata": {
        "id": "mW2TETEgX9J1"
      }
    },
    {
      "cell_type": "code",
      "source": [
        "batch_size = 64\n",
        "\n",
        "train_dataloader = DataLoader(training_data, batch_size=batch_size)\n",
        "test_dataloader = DataLoader(test_data, batch_size=batch_size)\n",
        "\n",
        "for X, y in test_dataloader:\n",
        "    print(f\"Shape of X [N, C, H, W]: {X.shape}\")\n",
        "    print(f\"Shape of y: {y.shape} {y.dtype}\")\n",
        "    break"
      ],
      "metadata": {
        "colab": {
          "base_uri": "https://localhost:8080/"
        },
        "id": "kSKyuPoyS4lq",
        "outputId": "a6abae4b-11a2-4851-d2cc-b3eac760854a"
      },
      "execution_count": 3,
      "outputs": [
        {
          "output_type": "stream",
          "name": "stdout",
          "text": [
            "Shape of X [N, C, H, W]: torch.Size([64, 1, 28, 28])\n",
            "Shape of y: torch.Size([64]) torch.int64\n"
          ]
        }
      ]
    },
    {
      "cell_type": "markdown",
      "source": [
        "2. Creating Models"
      ],
      "metadata": {
        "id": "3M1F0jbGWcv9"
      }
    },
    {
      "cell_type": "code",
      "source": [
        "device = (\n",
        "    \"cuda\"\n",
        "    if torch.cuda.is_available()\n",
        "    else \"mps\"\n",
        "    if torch.backends.mps.is_available()\n",
        "    else \"cpu\"\n",
        ")"
      ],
      "metadata": {
        "id": "I-E2R46BYI0-"
      },
      "execution_count": 7,
      "outputs": []
    },
    {
      "cell_type": "code",
      "source": [
        "print(f\"Using {device} device\")"
      ],
      "metadata": {
        "colab": {
          "base_uri": "https://localhost:8080/"
        },
        "id": "wDW6dqqOYK5a",
        "outputId": "f962e948-2fb4-4a64-9d18-c9861851a48b"
      },
      "execution_count": 9,
      "outputs": [
        {
          "output_type": "stream",
          "name": "stdout",
          "text": [
            "Using cpu device\n"
          ]
        }
      ]
    },
    {
      "cell_type": "code",
      "source": [
        "class NeuralNetwork(nn.Module):\n",
        "    def __init__(self):\n",
        "        super().__init__()\n",
        "        self.flatten = nn.Flatten()\n",
        "        self.linear_relu_stack = nn.Sequential(\n",
        "            nn.Linear(28*28, 512),\n",
        "            nn.ReLU(),\n",
        "            nn.Linear(512, 512),\n",
        "            nn.ReLU(),\n",
        "            nn.Linear(512, 10)\n",
        "        )\n",
        "\n",
        "    def forward(self, x):\n",
        "        x = self.flatten(x)\n",
        "        logits = self.linear_relu_stack(x)\n",
        "        return logits"
      ],
      "metadata": {
        "id": "Dh42s57dYRxD"
      },
      "execution_count": 10,
      "outputs": []
    },
    {
      "cell_type": "code",
      "source": [
        "model = NeuralNetwork().to(device)\n",
        "print(model)"
      ],
      "metadata": {
        "colab": {
          "base_uri": "https://localhost:8080/"
        },
        "id": "jXPMPge3YSEU",
        "outputId": "0b056e2d-b376-450e-8138-966225cc0f4c"
      },
      "execution_count": 11,
      "outputs": [
        {
          "output_type": "stream",
          "name": "stdout",
          "text": [
            "NeuralNetwork(\n",
            "  (flatten): Flatten(start_dim=1, end_dim=-1)\n",
            "  (linear_relu_stack): Sequential(\n",
            "    (0): Linear(in_features=784, out_features=512, bias=True)\n",
            "    (1): ReLU()\n",
            "    (2): Linear(in_features=512, out_features=512, bias=True)\n",
            "    (3): ReLU()\n",
            "    (4): Linear(in_features=512, out_features=10, bias=True)\n",
            "  )\n",
            ")\n"
          ]
        }
      ]
    },
    {
      "cell_type": "markdown",
      "source": [
        "3. Optimizing the Model Parameters :\n",
        "\n",
        "To train a model, we need a loss function and an optimizer."
      ],
      "metadata": {
        "id": "UacT211tXOAt"
      }
    },
    {
      "cell_type": "code",
      "source": [
        "loss_fn = nn.CrossEntropyLoss()\n",
        "optimizer = torch.optim.SGD(model.parameters(), lr=1e-3)"
      ],
      "metadata": {
        "id": "dqw8ycpdW0ug"
      },
      "execution_count": 12,
      "outputs": []
    },
    {
      "cell_type": "code",
      "source": [
        "def train(dataloader, model, loss_fn, optimizer):\n",
        "    size = len(dataloader.dataset)\n",
        "    model.train()\n",
        "    for batch, (X, y) in enumerate(dataloader):\n",
        "        X, y = X.to(device), y.to(device)\n",
        "\n",
        "        # Compute prediction error\n",
        "        pred = model(X)\n",
        "        loss = loss_fn(pred, y)\n",
        "\n",
        "        # Backpropagation\n",
        "        loss.backward()\n",
        "        optimizer.step()\n",
        "        optimizer.zero_grad()\n",
        "\n",
        "        if batch % 100 == 0:\n",
        "            loss, current = loss.item(), (batch + 1) * len(X)\n",
        "            print(f\"loss: {loss:>7f}  [{current:>5d}/{size:>5d}]\")"
      ],
      "metadata": {
        "id": "HaYqbzZYYhil"
      },
      "execution_count": 13,
      "outputs": []
    },
    {
      "cell_type": "markdown",
      "source": [
        "Checking the model’s performance against the test dataset"
      ],
      "metadata": {
        "id": "hMLmx69GbiD_"
      }
    },
    {
      "cell_type": "code",
      "source": [
        "def test(dataloader, model, loss_fn):\n",
        "    size = len(dataloader.dataset)\n",
        "    num_batches = len(dataloader)\n",
        "    model.eval()\n",
        "    test_loss, correct = 0, 0\n",
        "    with torch.no_grad():\n",
        "        for X, y in dataloader:\n",
        "            X, y = X.to(device), y.to(device)\n",
        "            pred = model(X)\n",
        "            test_loss += loss_fn(pred, y).item()\n",
        "            correct += (pred.argmax(1) == y).type(torch.float).sum().item()\n",
        "    test_loss /= num_batches\n",
        "    correct /= size\n",
        "    print(f\"Test Error: \\n Accuracy: {(100*correct):>0.1f}%, Avg loss: {test_loss:>8f} \\n\")"
      ],
      "metadata": {
        "id": "4NCoYoPAYsnK"
      },
      "execution_count": 15,
      "outputs": []
    },
    {
      "cell_type": "markdown",
      "source": [
        "Training :"
      ],
      "metadata": {
        "id": "XR9E5uFIbwlk"
      }
    },
    {
      "cell_type": "code",
      "source": [
        "epochs = 5\n",
        "for t in range(epochs):\n",
        "    print(f\"Epoch {t+1}\\n-------------------------------\")\n",
        "    train(train_dataloader, model, loss_fn, optimizer)\n",
        "    test(test_dataloader, model, loss_fn)\n",
        "print(\"Done!\")"
      ],
      "metadata": {
        "colab": {
          "base_uri": "https://localhost:8080/"
        },
        "id": "4Vr98ZM7blZN",
        "outputId": "f5710b32-7e08-4490-f160-cebe04ab6eb6"
      },
      "execution_count": 16,
      "outputs": [
        {
          "output_type": "stream",
          "name": "stdout",
          "text": [
            "Epoch 1\n",
            "-------------------------------\n",
            "loss: 2.308463  [   64/60000]\n",
            "loss: 2.295227  [ 6464/60000]\n",
            "loss: 2.274498  [12864/60000]\n",
            "loss: 2.264169  [19264/60000]\n",
            "loss: 2.254101  [25664/60000]\n",
            "loss: 2.231152  [32064/60000]\n",
            "loss: 2.237743  [38464/60000]\n",
            "loss: 2.208390  [44864/60000]\n",
            "loss: 2.199743  [51264/60000]\n",
            "loss: 2.169455  [57664/60000]\n",
            "Test Error: \n",
            " Accuracy: 49.6%, Avg loss: 2.164492 \n",
            "\n",
            "Epoch 2\n",
            "-------------------------------\n",
            "loss: 2.180393  [   64/60000]\n",
            "loss: 2.166026  [ 6464/60000]\n",
            "loss: 2.107979  [12864/60000]\n",
            "loss: 2.115753  [19264/60000]\n",
            "loss: 2.072610  [25664/60000]\n",
            "loss: 2.020574  [32064/60000]\n",
            "loss: 2.041481  [38464/60000]\n",
            "loss: 1.970460  [44864/60000]\n",
            "loss: 1.972419  [51264/60000]\n",
            "loss: 1.891681  [57664/60000]\n",
            "Test Error: \n",
            " Accuracy: 55.7%, Avg loss: 1.897001 \n",
            "\n",
            "Epoch 3\n",
            "-------------------------------\n",
            "loss: 1.938798  [   64/60000]\n",
            "loss: 1.900154  [ 6464/60000]\n",
            "loss: 1.789197  [12864/60000]\n",
            "loss: 1.815873  [19264/60000]\n",
            "loss: 1.712136  [25664/60000]\n",
            "loss: 1.671293  [32064/60000]\n",
            "loss: 1.685787  [38464/60000]\n",
            "loss: 1.596226  [44864/60000]\n",
            "loss: 1.619029  [51264/60000]\n",
            "loss: 1.502860  [57664/60000]\n",
            "Test Error: \n",
            " Accuracy: 60.3%, Avg loss: 1.529713 \n",
            "\n",
            "Epoch 4\n",
            "-------------------------------\n",
            "loss: 1.605829  [   64/60000]\n",
            "loss: 1.558281  [ 6464/60000]\n",
            "loss: 1.420294  [12864/60000]\n",
            "loss: 1.477652  [19264/60000]\n",
            "loss: 1.359266  [25664/60000]\n",
            "loss: 1.361028  [32064/60000]\n",
            "loss: 1.371146  [38464/60000]\n",
            "loss: 1.303175  [44864/60000]\n",
            "loss: 1.336081  [51264/60000]\n",
            "loss: 1.230287  [57664/60000]\n",
            "Test Error: \n",
            " Accuracy: 63.2%, Avg loss: 1.260010 \n",
            "\n",
            "Epoch 5\n",
            "-------------------------------\n",
            "loss: 1.345670  [   64/60000]\n",
            "loss: 1.313982  [ 6464/60000]\n",
            "loss: 1.158254  [12864/60000]\n",
            "loss: 1.253782  [19264/60000]\n",
            "loss: 1.125448  [25664/60000]\n",
            "loss: 1.153415  [32064/60000]\n",
            "loss: 1.174996  [38464/60000]\n",
            "loss: 1.117705  [44864/60000]\n",
            "loss: 1.155978  [51264/60000]\n",
            "loss: 1.068213  [57664/60000]\n",
            "Test Error: \n",
            " Accuracy: 64.8%, Avg loss: 1.090120 \n",
            "\n",
            "Done!\n"
          ]
        }
      ]
    },
    {
      "cell_type": "markdown",
      "source": [
        "4. Saving Models :\n",
        "\n",
        "A common way to save a model is to serialize the internal state dictionary (containing the model parameters).\n",
        "\n"
      ],
      "metadata": {
        "id": "yJLzr37IcFRd"
      }
    },
    {
      "cell_type": "code",
      "source": [
        "torch.save(model.state_dict(), \"model.pth\")\n",
        "print(\"Saved PyTorch Model State to model.pth\")"
      ],
      "metadata": {
        "colab": {
          "base_uri": "https://localhost:8080/"
        },
        "id": "lAMq1fNlbztH",
        "outputId": "b26518f0-dbc9-42e6-ef8a-59b127271763"
      },
      "execution_count": 17,
      "outputs": [
        {
          "output_type": "stream",
          "name": "stdout",
          "text": [
            "Saved PyTorch Model State to model.pth\n"
          ]
        }
      ]
    },
    {
      "cell_type": "markdown",
      "source": [
        "5. Loading Models :\n",
        "\n",
        "The process for loading a model includes re-creating the model structure and loading the state dictionary into it."
      ],
      "metadata": {
        "id": "4gGZYtkFcWZp"
      }
    },
    {
      "cell_type": "code",
      "source": [
        "model = NeuralNetwork().to(device)\n",
        "model.load_state_dict(torch.load(\"model.pth\"))"
      ],
      "metadata": {
        "colab": {
          "base_uri": "https://localhost:8080/"
        },
        "id": "XbBSnezpcSMT",
        "outputId": "042f3c3c-ff6a-4833-a774-bc600ff07d8c"
      },
      "execution_count": 19,
      "outputs": [
        {
          "output_type": "execute_result",
          "data": {
            "text/plain": [
              "<All keys matched successfully>"
            ]
          },
          "metadata": {},
          "execution_count": 19
        }
      ]
    },
    {
      "cell_type": "markdown",
      "source": [
        "This model can now be used to make predictions.\n",
        "\n"
      ],
      "metadata": {
        "id": "WGMw30pYcpHl"
      }
    },
    {
      "cell_type": "code",
      "source": [
        "classes = [\n",
        "    \"T-shirt/top\",\n",
        "    \"Trouser\",\n",
        "    \"Pullover\",\n",
        "    \"Dress\",\n",
        "    \"Coat\",\n",
        "    \"Sandal\",\n",
        "    \"Shirt\",\n",
        "    \"Sneaker\",\n",
        "    \"Bag\",\n",
        "    \"Ankle boot\",\n",
        "]"
      ],
      "metadata": {
        "id": "Ax0zErf0cvD4"
      },
      "execution_count": 20,
      "outputs": []
    },
    {
      "cell_type": "code",
      "source": [
        "model.eval()\n",
        "x, y = test_data[0][0], test_data[0][1]\n",
        "with torch.no_grad():\n",
        "    x = x.to(device)\n",
        "    pred = model(x)\n",
        "    predicted, actual = classes[pred[0].argmax(0)], classes[y]\n",
        "    print(f'Predicted: \"{predicted}\", Actual: \"{actual}\"')"
      ],
      "metadata": {
        "colab": {
          "base_uri": "https://localhost:8080/"
        },
        "id": "hFxFFDJ2ck0d",
        "outputId": "97ee7929-3acc-41e7-e55b-30bbfc2c464c"
      },
      "execution_count": 21,
      "outputs": [
        {
          "output_type": "stream",
          "name": "stdout",
          "text": [
            "Predicted: \"Ankle boot\", Actual: \"Ankle boot\"\n"
          ]
        }
      ]
    }
  ]
}