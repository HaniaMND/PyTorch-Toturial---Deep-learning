{
  "nbformat": 4,
  "nbformat_minor": 0,
  "metadata": {
    "colab": {
      "provenance": []
    },
    "kernelspec": {
      "name": "python3",
      "display_name": "Python 3"
    },
    "language_info": {
      "name": "python"
    }
  },
  "cells": [
    {
      "cell_type": "markdown",
      "source": [
        "# Build the Neural Network"
      ],
      "metadata": {
        "id": "OWpDkdbTEwot"
      }
    },
    {
      "cell_type": "markdown",
      "source": [
        "In the following, we’ll build a neural network to classify images in the FashionMNIST dataset."
      ],
      "metadata": {
        "id": "TA5hwKMGFCX1"
      }
    },
    {
      "cell_type": "code",
      "execution_count": 1,
      "metadata": {
        "id": "DMvjObuV5lEf"
      },
      "outputs": [],
      "source": [
        "import os\n",
        "import torch\n",
        "from torch import nn\n",
        "from torch.utils.data import DataLoader\n",
        "from torchvision import datasets, transforms"
      ]
    },
    {
      "cell_type": "markdown",
      "source": [
        "1. Get device for Training :\n",
        "\n",
        "We want to be able to train our model on a hardware accelerator like the GPU or MPS, if available. Let’s check to see if `torch.cuda` or `torch.backends.mps` are available, otherwise we use the CPU."
      ],
      "metadata": {
        "id": "R7fTTuxcFOY1"
      }
    },
    {
      "cell_type": "code",
      "source": [
        "device = (\n",
        "    \"cuda\"\n",
        "    if torch.cuda.is_available()\n",
        "    else \"mps\"\n",
        "    if torch.backends.mps.is_available()\n",
        "    else \"cpu\"\n",
        ")\n",
        "print(f\"Using {device} device\")"
      ],
      "metadata": {
        "colab": {
          "base_uri": "https://localhost:8080/"
        },
        "id": "HZDtu_-sFMzO",
        "outputId": "ae85a0a1-8ab1-4899-ce02-2de03a3912db"
      },
      "execution_count": 2,
      "outputs": [
        {
          "output_type": "stream",
          "name": "stdout",
          "text": [
            "Using cpu device\n"
          ]
        }
      ]
    },
    {
      "cell_type": "markdown",
      "source": [
        "2. Define the class :\n",
        "\n",
        "- We define our neural network by subclassing `nn.Module`.\n",
        "- We initialize the neural network layers in `__init__`.\n",
        "- We implements the operations on input data in the `forward` method."
      ],
      "metadata": {
        "id": "PQd7yJSaFkgt"
      }
    },
    {
      "cell_type": "code",
      "source": [
        "class NeuralNetwork(nn.Module):\n",
        "    def __init__(self):\n",
        "        super().__init__()\n",
        "        self.flatten = nn.Flatten()\n",
        "        self.linear_relu_stack = nn.Sequential(\n",
        "            nn.Linear(28*28, 512),\n",
        "            nn.ReLU(),\n",
        "            nn.Linear(512, 512),\n",
        "            nn.ReLU(),\n",
        "            nn.Linear(512, 10),\n",
        "        )\n",
        "\n",
        "    def forward(self, x):\n",
        "        x = self.flatten(x)\n",
        "        logits = self.linear_relu_stack(x)\n",
        "        return logits"
      ],
      "metadata": {
        "id": "caglzlnkFg4C"
      },
      "execution_count": 3,
      "outputs": []
    },
    {
      "cell_type": "markdown",
      "source": [
        "We create an instance of `NeuralNetwork`, and move it to the `device`"
      ],
      "metadata": {
        "id": "jsnDhv99I6di"
      }
    },
    {
      "cell_type": "code",
      "source": [
        "model = NeuralNetwork().to(device)\n",
        "print(model)"
      ],
      "metadata": {
        "colab": {
          "base_uri": "https://localhost:8080/"
        },
        "id": "_lbvHdPHJAEm",
        "outputId": "80befcbd-371e-4535-afc9-8442fd4f5b50"
      },
      "execution_count": 9,
      "outputs": [
        {
          "output_type": "stream",
          "name": "stdout",
          "text": [
            "NeuralNetwork(\n",
            "  (flatten): Flatten(start_dim=1, end_dim=-1)\n",
            "  (linear_relu_stack): Sequential(\n",
            "    (0): Linear(in_features=784, out_features=512, bias=True)\n",
            "    (1): ReLU()\n",
            "    (2): Linear(in_features=512, out_features=512, bias=True)\n",
            "    (3): ReLU()\n",
            "    (4): Linear(in_features=512, out_features=10, bias=True)\n",
            "  )\n",
            ")\n"
          ]
        }
      ]
    },
    {
      "cell_type": "code",
      "source": [
        "X = torch.rand(1, 28, 28, device=device)\n",
        "logits = model(X)\n",
        "pred_probab = nn.Softmax(dim=1)(logits)\n",
        "y_pred = pred_probab.argmax(1)\n",
        "print(f\"Predicted class: {y_pred}\")"
      ],
      "metadata": {
        "colab": {
          "base_uri": "https://localhost:8080/"
        },
        "id": "BVRwbdUFJId8",
        "outputId": "6816273f-ee12-405a-884e-addad6dcae8f"
      },
      "execution_count": 22,
      "outputs": [
        {
          "output_type": "stream",
          "name": "stdout",
          "text": [
            "Predicted class: tensor([3])\n"
          ]
        }
      ]
    },
    {
      "cell_type": "code",
      "source": [
        "pred_probab"
      ],
      "metadata": {
        "colab": {
          "base_uri": "https://localhost:8080/"
        },
        "id": "LqulvIFILYAl",
        "outputId": "10685221-ec3d-4c73-dd66-46ed563ef9c1"
      },
      "execution_count": 23,
      "outputs": [
        {
          "output_type": "execute_result",
          "data": {
            "text/plain": [
              "tensor([[0.0968, 0.0965, 0.0923, 0.1092, 0.1039, 0.0993, 0.0963, 0.1063, 0.1052,\n",
              "         0.0942]], grad_fn=<SoftmaxBackward0>)"
            ]
          },
          "metadata": {},
          "execution_count": 23
        }
      ]
    },
    {
      "cell_type": "markdown",
      "source": [
        "3. Model Layers :"
      ],
      "metadata": {
        "id": "QdPDnVulLz6o"
      }
    },
    {
      "cell_type": "code",
      "source": [
        "input_image = torch.rand(3,28,28)\n",
        "print(input_image.size())"
      ],
      "metadata": {
        "colab": {
          "base_uri": "https://localhost:8080/"
        },
        "id": "BwQN3ZbaLhO5",
        "outputId": "5fbd5801-3625-4729-bcd8-f43bb9cbd4e1"
      },
      "execution_count": 20,
      "outputs": [
        {
          "output_type": "stream",
          "name": "stdout",
          "text": [
            "torch.Size([3, 28, 28])\n"
          ]
        }
      ]
    },
    {
      "cell_type": "markdown",
      "source": [
        "nn.Flatten :"
      ],
      "metadata": {
        "id": "OBAlC50vNq5N"
      }
    },
    {
      "cell_type": "code",
      "source": [
        "flatten = nn.Flatten()\n",
        "flat_image = flatten(input_image)\n",
        "print(flat_image.size())"
      ],
      "metadata": {
        "colab": {
          "base_uri": "https://localhost:8080/"
        },
        "id": "vjAoPqgbMnvA",
        "outputId": "af4f16d2-4dd8-435d-e897-c1a07cb92884"
      },
      "execution_count": 32,
      "outputs": [
        {
          "output_type": "stream",
          "name": "stdout",
          "text": [
            "torch.Size([3, 784])\n"
          ]
        }
      ]
    },
    {
      "cell_type": "markdown",
      "source": [
        "nn.Linear :"
      ],
      "metadata": {
        "id": "T8obROKXNnN8"
      }
    },
    {
      "cell_type": "code",
      "source": [
        "layer1 = nn.Linear(in_features=28*28, out_features=20)\n",
        "hidden1 = layer1(flat_image)\n",
        "print(hidden1.size())"
      ],
      "metadata": {
        "colab": {
          "base_uri": "https://localhost:8080/"
        },
        "id": "Bq_tYFj1NGg4",
        "outputId": "50b3815b-4d9e-49ef-edf4-2c80bdafeccb"
      },
      "execution_count": 33,
      "outputs": [
        {
          "output_type": "stream",
          "name": "stdout",
          "text": [
            "torch.Size([3, 20])\n"
          ]
        }
      ]
    },
    {
      "cell_type": "markdown",
      "source": [
        "nn.ReLU :"
      ],
      "metadata": {
        "id": "1GX4uyGwN_op"
      }
    },
    {
      "cell_type": "code",
      "source": [
        "print(f\"Before ReLU: {hidden1}\\n\\n\")\n",
        "\n",
        "hidden1 = nn.ReLU()(hidden1)\n",
        "print(f\"After ReLU: {hidden1}\")"
      ],
      "metadata": {
        "colab": {
          "base_uri": "https://localhost:8080/"
        },
        "id": "u9-LjKnMN7OP",
        "outputId": "867c2758-c437-47d9-b58e-2ba19c514e07"
      },
      "execution_count": 34,
      "outputs": [
        {
          "output_type": "stream",
          "name": "stdout",
          "text": [
            "Before ReLU: tensor([[-0.1309, -0.1936, -0.2235,  0.1022,  0.6131,  0.4898,  0.2966, -0.1828,\n",
            "         -0.5248,  0.1203,  0.1041,  0.2717, -0.3834,  0.1556,  0.6499, -0.3059,\n",
            "          0.0618,  0.0554, -0.4135,  0.0988],\n",
            "        [ 0.0886, -0.3835, -0.1548,  0.1037,  0.4082,  0.5556,  0.2976, -0.3366,\n",
            "         -0.3224,  0.1293,  0.0684,  0.2142, -0.7134,  0.1357,  0.4091, -0.5352,\n",
            "         -0.0928, -0.2439, -0.2654, -0.0201],\n",
            "        [ 0.5758, -0.1354, -0.1735,  0.1753,  0.1884,  0.0143,  0.4698, -0.3478,\n",
            "         -0.2622,  0.2922,  0.1715,  0.1591, -0.4034,  0.0622,  0.7671, -1.0089,\n",
            "          0.1153, -0.0082, -0.3142,  0.1288]], grad_fn=<AddmmBackward0>)\n",
            "\n",
            "\n",
            "After ReLU: tensor([[0.0000, 0.0000, 0.0000, 0.1022, 0.6131, 0.4898, 0.2966, 0.0000, 0.0000,\n",
            "         0.1203, 0.1041, 0.2717, 0.0000, 0.1556, 0.6499, 0.0000, 0.0618, 0.0554,\n",
            "         0.0000, 0.0988],\n",
            "        [0.0886, 0.0000, 0.0000, 0.1037, 0.4082, 0.5556, 0.2976, 0.0000, 0.0000,\n",
            "         0.1293, 0.0684, 0.2142, 0.0000, 0.1357, 0.4091, 0.0000, 0.0000, 0.0000,\n",
            "         0.0000, 0.0000],\n",
            "        [0.5758, 0.0000, 0.0000, 0.1753, 0.1884, 0.0143, 0.4698, 0.0000, 0.0000,\n",
            "         0.2922, 0.1715, 0.1591, 0.0000, 0.0622, 0.7671, 0.0000, 0.1153, 0.0000,\n",
            "         0.0000, 0.1288]], grad_fn=<ReluBackward0>)\n"
          ]
        }
      ]
    },
    {
      "cell_type": "markdown",
      "source": [
        "nn.Sequential :"
      ],
      "metadata": {
        "id": "e24aXDWMPCw2"
      }
    },
    {
      "cell_type": "code",
      "source": [
        "seq_modules = nn.Sequential(\n",
        "    flatten,\n",
        "    layer1,\n",
        "    nn.ReLU(),\n",
        "    nn.Linear(20, 10)\n",
        ")\n",
        "input_image = torch.rand(3,28,28)\n",
        "logits = seq_modules(input_image)"
      ],
      "metadata": {
        "id": "xBMPlmPYOuwk"
      },
      "execution_count": 35,
      "outputs": []
    },
    {
      "cell_type": "code",
      "source": [
        "logits.size()"
      ],
      "metadata": {
        "colab": {
          "base_uri": "https://localhost:8080/"
        },
        "id": "WVmcPfLTPSog",
        "outputId": "9eb88c67-b609-414c-dd90-f9fc400fbd24"
      },
      "execution_count": 36,
      "outputs": [
        {
          "output_type": "execute_result",
          "data": {
            "text/plain": [
              "torch.Size([3, 10])"
            ]
          },
          "metadata": {},
          "execution_count": 36
        }
      ]
    },
    {
      "cell_type": "markdown",
      "source": [
        "nn.Softmax :\n",
        "\n",
        "logits contains raw values in [-infty, infty] - which are passed to the `nn.Softmax` module to be  scaled to values [0, 1] representing the model’s predicted probabilities for each class.\n",
        "\n",
        "`dim` parameter indicates the dimension along which the values must sum to 1."
      ],
      "metadata": {
        "id": "k9IADXTGPhWy"
      }
    },
    {
      "cell_type": "code",
      "source": [
        "softmax = nn.Softmax(dim=1)\n",
        "pred_probab = softmax(logits)"
      ],
      "metadata": {
        "id": "f4VjpfjxPenG"
      },
      "execution_count": 41,
      "outputs": []
    },
    {
      "cell_type": "markdown",
      "source": [
        "4. Model Parameters :    \n",
        "\n",
        "They're accessible using model’s `parameters()` or `named_parameters()` methods."
      ],
      "metadata": {
        "id": "YQgSu8NCQvoM"
      }
    },
    {
      "cell_type": "code",
      "source": [
        "print(f\"Model structure: {model}\\n\\n\")\n",
        "\n",
        "for name, param in model.named_parameters():\n",
        "    print(f\"Layer: {name} | Size: {param.size()} | Values : {param[:2]} \\n\")"
      ],
      "metadata": {
        "colab": {
          "base_uri": "https://localhost:8080/"
        },
        "id": "YTsDWaoZQjGg",
        "outputId": "6acbcf46-169e-48b0-9614-85f5945298ba"
      },
      "execution_count": 44,
      "outputs": [
        {
          "output_type": "stream",
          "name": "stdout",
          "text": [
            "Model structure: NeuralNetwork(\n",
            "  (flatten): Flatten(start_dim=1, end_dim=-1)\n",
            "  (linear_relu_stack): Sequential(\n",
            "    (0): Linear(in_features=784, out_features=512, bias=True)\n",
            "    (1): ReLU()\n",
            "    (2): Linear(in_features=512, out_features=512, bias=True)\n",
            "    (3): ReLU()\n",
            "    (4): Linear(in_features=512, out_features=10, bias=True)\n",
            "  )\n",
            ")\n",
            "\n",
            "\n",
            "Layer: linear_relu_stack.0.weight | Size: torch.Size([512, 784]) | Values : tensor([[ 0.0076, -0.0220, -0.0017,  ...,  0.0345,  0.0302,  0.0338],\n",
            "        [-0.0012, -0.0291,  0.0081,  ...,  0.0213,  0.0354, -0.0324]],\n",
            "       grad_fn=<SliceBackward0>) \n",
            "\n",
            "Layer: linear_relu_stack.0.bias | Size: torch.Size([512]) | Values : tensor([0.0173, 0.0196], grad_fn=<SliceBackward0>) \n",
            "\n",
            "Layer: linear_relu_stack.2.weight | Size: torch.Size([512, 512]) | Values : tensor([[-0.0154, -0.0219, -0.0059,  ..., -0.0420, -0.0391,  0.0113],\n",
            "        [-0.0407,  0.0394, -0.0367,  ..., -0.0206,  0.0062, -0.0125]],\n",
            "       grad_fn=<SliceBackward0>) \n",
            "\n",
            "Layer: linear_relu_stack.2.bias | Size: torch.Size([512]) | Values : tensor([-0.0304, -0.0307], grad_fn=<SliceBackward0>) \n",
            "\n",
            "Layer: linear_relu_stack.4.weight | Size: torch.Size([10, 512]) | Values : tensor([[-0.0103,  0.0182,  0.0097,  ..., -0.0295,  0.0166,  0.0215],\n",
            "        [ 0.0042,  0.0023, -0.0303,  ..., -0.0169,  0.0167,  0.0158]],\n",
            "       grad_fn=<SliceBackward0>) \n",
            "\n",
            "Layer: linear_relu_stack.4.bias | Size: torch.Size([10]) | Values : tensor([-0.0267,  0.0325], grad_fn=<SliceBackward0>) \n",
            "\n"
          ]
        }
      ]
    }
  ]
}